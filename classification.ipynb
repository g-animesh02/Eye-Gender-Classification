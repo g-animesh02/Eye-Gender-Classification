{
 "cells": [
  {
   "cell_type": "markdown",
   "id": "431d563a",
   "metadata": {},
   "source": [
    "## Download the images"
   ]
  },
  {
   "cell_type": "code",
   "execution_count": null,
   "id": "201844a1",
   "metadata": {},
   "outputs": [],
   "source": [
    "from google_drive_downloader import GoogleDriveDownloader as gdd\n",
    "\n",
    "gdd.download_file_from_google_drive(file_id='1f7uslI-ZHidriQFZR966_aILjlkgDN76',\n",
    "dest_path='content/eye_gender_data.zip',\n",
    "unzip=True)"
   ]
  },
  {
   "cell_type": "markdown",
   "id": "4eb0431b",
   "metadata": {},
   "source": [
    "## Loading libraries"
   ]
  },
  {
   "cell_type": "code",
   "execution_count": 3,
   "id": "bb24695a",
   "metadata": {},
   "outputs": [],
   "source": [
    "import numpy as np\n",
    "import pandas as pd\n",
    "import matplotlib.pyplot as plt\n",
    "plt.style.use('seaborn')\n",
    "import matplotlib.image as img\n",
    "import tensorflow as tf\n",
    "import cv2\n",
    "from keras.layers import Conv2D,Dropout,Dense,Flatten,Conv2DTranspose,BatchNormalization,LeakyReLU,Reshape\n",
    "from keras.models import Sequential\n",
    "from sklearn.preprocessing import LabelEncoder"
   ]
  },
  {
   "cell_type": "markdown",
   "id": "bb534b36",
   "metadata": {},
   "source": [
    "## Loading and preparing training data"
   ]
  },
  {
   "cell_type": "code",
   "execution_count": 4,
   "id": "d66ba3ec",
   "metadata": {},
   "outputs": [
    {
     "name": "stdout",
     "output_type": "stream",
     "text": [
      "100 training images imported\n",
      "200 training images imported\n",
      "300 training images imported\n",
      "400 training images imported\n",
      "500 training images imported\n",
      "600 training images imported\n",
      "700 training images imported\n",
      "800 training images imported\n",
      "900 training images imported\n",
      "1000 training images imported\n",
      "1100 training images imported\n",
      "1200 training images imported\n",
      "1300 training images imported\n",
      "1400 training images imported\n",
      "1500 training images imported\n",
      "1600 training images imported\n",
      "1700 training images imported\n",
      "1800 training images imported\n",
      "1900 training images imported\n",
      "2000 training images imported\n",
      "2100 training images imported\n",
      "2200 training images imported\n",
      "2300 training images imported\n",
      "2400 training images imported\n",
      "2500 training images imported\n",
      "2600 training images imported\n",
      "2700 training images imported\n",
      "2800 training images imported\n",
      "2900 training images imported\n",
      "3000 training images imported\n",
      "3100 training images imported\n",
      "3200 training images imported\n",
      "3300 training images imported\n",
      "3400 training images imported\n",
      "3500 training images imported\n",
      "3600 training images imported\n",
      "3700 training images imported\n",
      "3800 training images imported\n",
      "3900 training images imported\n",
      "4000 training images imported\n",
      "4100 training images imported\n",
      "4200 training images imported\n",
      "4300 training images imported\n",
      "4400 training images imported\n",
      "4500 training images imported\n",
      "4600 training images imported\n",
      "4700 training images imported\n",
      "4800 training images imported\n",
      "4900 training images imported\n",
      "5000 training images imported\n",
      "5100 training images imported\n",
      "5200 training images imported\n",
      "5300 training images imported\n",
      "5400 training images imported\n",
      "5500 training images imported\n",
      "5600 training images imported\n",
      "5700 training images imported\n",
      "5800 training images imported\n",
      "5900 training images imported\n",
      "6000 training images imported\n",
      "6100 training images imported\n",
      "6200 training images imported\n",
      "6300 training images imported\n",
      "6400 training images imported\n",
      "6500 training images imported\n",
      "6600 training images imported\n",
      "6700 training images imported\n",
      "6800 training images imported\n",
      "6900 training images imported\n",
      "7000 training images imported\n",
      "7100 training images imported\n",
      "7200 training images imported\n",
      "7300 training images imported\n",
      "7400 training images imported\n",
      "7500 training images imported\n",
      "7600 training images imported\n",
      "7700 training images imported\n",
      "7800 training images imported\n",
      "7900 training images imported\n",
      "8000 training images imported\n",
      "8100 training images imported\n",
      "8200 training images imported\n",
      "8300 training images imported\n",
      "8400 training images imported\n",
      "8500 training images imported\n",
      "8600 training images imported\n",
      "8700 training images imported\n",
      "8800 training images imported\n",
      "8900 training images imported\n",
      "9000 training images imported\n",
      "9100 training images imported\n",
      "9200 training images imported\n",
      "100 testing images imported\n",
      "200 testing images imported\n",
      "300 testing images imported\n",
      "400 testing images imported\n",
      "500 testing images imported\n",
      "600 testing images imported\n",
      "700 testing images imported\n",
      "800 testing images imported\n",
      "900 testing images imported\n",
      "1000 testing images imported\n",
      "1100 testing images imported\n",
      "1200 testing images imported\n",
      "1300 testing images imported\n",
      "1400 testing images imported\n",
      "1500 testing images imported\n",
      "1600 testing images imported\n",
      "1700 testing images imported\n",
      "1800 testing images imported\n",
      "1900 testing images imported\n",
      "2000 testing images imported\n",
      "2100 testing images imported\n",
      "2200 testing images imported\n",
      "2300 testing images imported\n"
     ]
    }
   ],
   "source": [
    "train_label = pd.read_csv(\"eye_gender_data/Training_set.csv\")\n",
    "test_label_pred = pd.read_csv(\"eye_gender_data/Testing_set.csv\")\n",
    "labelEncoder = LabelEncoder()\n",
    "labels = labelEncoder.fit_transform(train_label.label)\n",
    "train_label.label = labels\n",
    "\n",
    "X_train = []\n",
    "c = 0\n",
    "for i in range(train_label.shape[0]):\n",
    "    image = cv2.imread(\"eye_gender_data/train/\" + train_label.filename[i], cv2.COLOR_BGR2RGB)\n",
    "    image = cv2.resize(image, (50,50))\n",
    "    image = image/255\n",
    "    X_train.append(image)\n",
    "    c += 1\n",
    "    if c%100 == 0:\n",
    "        print(str(c) + \" training images imported\")\n",
    "        \n",
    "X = np.array(X_train)\n",
    "train_images = X.reshape(X.shape[0], 50, 50, 3)\n",
    "\n",
    "X_test = []\n",
    "c = 0\n",
    "for i in range(test_label_pred.shape[0]):\n",
    "    image = cv2.imread(\"eye_gender_data/test/\" + test_label_pred.filename[i], cv2.COLOR_BGR2RGB)\n",
    "    image = cv2.resize(image, (50,50))\n",
    "    image = image/255\n",
    "    X_test.append(image)\n",
    "    c += 1\n",
    "    if c%100 == 0:\n",
    "        print(str(c) + \" testing images imported\")\n",
    "\n",
    "T = np.array(X_test)\n",
    "test_images = T.reshape(T.shape[0], 50, 50, 3)"
   ]
  },
  {
   "cell_type": "markdown",
   "id": "af3acb2a",
   "metadata": {},
   "source": [
    "## Building Model & Hyperparameter tuning"
   ]
  },
  {
   "cell_type": "code",
   "execution_count": 20,
   "id": "0caa52cd",
   "metadata": {},
   "outputs": [
    {
     "name": "stdout",
     "output_type": "stream",
     "text": [
      "Model: \"vgg19\"\n",
      "_________________________________________________________________\n",
      "Layer (type)                 Output Shape              Param #   \n",
      "=================================================================\n",
      "input_2 (InputLayer)         [(None, 50, 50, 3)]       0         \n",
      "_________________________________________________________________\n",
      "block1_conv1 (Conv2D)        (None, 50, 50, 64)        1792      \n",
      "_________________________________________________________________\n",
      "block1_conv2 (Conv2D)        (None, 50, 50, 64)        36928     \n",
      "_________________________________________________________________\n",
      "block1_pool (MaxPooling2D)   (None, 25, 25, 64)        0         \n",
      "_________________________________________________________________\n",
      "block2_conv1 (Conv2D)        (None, 25, 25, 128)       73856     \n",
      "_________________________________________________________________\n",
      "block2_conv2 (Conv2D)        (None, 25, 25, 128)       147584    \n",
      "_________________________________________________________________\n",
      "block2_pool (MaxPooling2D)   (None, 12, 12, 128)       0         \n",
      "_________________________________________________________________\n",
      "block3_conv1 (Conv2D)        (None, 12, 12, 256)       295168    \n",
      "_________________________________________________________________\n",
      "block3_conv2 (Conv2D)        (None, 12, 12, 256)       590080    \n",
      "_________________________________________________________________\n",
      "block3_conv3 (Conv2D)        (None, 12, 12, 256)       590080    \n",
      "_________________________________________________________________\n",
      "block3_conv4 (Conv2D)        (None, 12, 12, 256)       590080    \n",
      "_________________________________________________________________\n",
      "block3_pool (MaxPooling2D)   (None, 6, 6, 256)         0         \n",
      "_________________________________________________________________\n",
      "block4_conv1 (Conv2D)        (None, 6, 6, 512)         1180160   \n",
      "_________________________________________________________________\n",
      "block4_conv2 (Conv2D)        (None, 6, 6, 512)         2359808   \n",
      "_________________________________________________________________\n",
      "block4_conv3 (Conv2D)        (None, 6, 6, 512)         2359808   \n",
      "_________________________________________________________________\n",
      "block4_conv4 (Conv2D)        (None, 6, 6, 512)         2359808   \n",
      "_________________________________________________________________\n",
      "block4_pool (MaxPooling2D)   (None, 3, 3, 512)         0         \n",
      "_________________________________________________________________\n",
      "block5_conv1 (Conv2D)        (None, 3, 3, 512)         2359808   \n",
      "_________________________________________________________________\n",
      "block5_conv2 (Conv2D)        (None, 3, 3, 512)         2359808   \n",
      "_________________________________________________________________\n",
      "block5_conv3 (Conv2D)        (None, 3, 3, 512)         2359808   \n",
      "_________________________________________________________________\n",
      "block5_conv4 (Conv2D)        (None, 3, 3, 512)         2359808   \n",
      "_________________________________________________________________\n",
      "block5_pool (MaxPooling2D)   (None, 1, 1, 512)         0         \n",
      "=================================================================\n",
      "Total params: 20,024,384\n",
      "Trainable params: 20,024,384\n",
      "Non-trainable params: 0\n",
      "_________________________________________________________________\n"
     ]
    }
   ],
   "source": [
    "INPUT_SHAPE = (50, 50, 3)\n",
    "\n",
    "# get the VGG19 model\n",
    "vgg_layers = tf.keras.applications.vgg19.VGG19(weights='imagenet', include_top=False,\n",
    "input_shape=INPUT_SHAPE)\n",
    "\n",
    "vgg_layers.summary()"
   ]
  },
  {
   "cell_type": "code",
   "execution_count": 21,
   "id": "a7f01d9e",
   "metadata": {},
   "outputs": [
    {
     "name": "stdout",
     "output_type": "stream",
     "text": [
      "<tensorflow.python.keras.engine.input_layer.InputLayer object at 0x0000020D29200700> True\n",
      "<tensorflow.python.keras.layers.convolutional.Conv2D object at 0x0000020D085569A0> True\n",
      "<tensorflow.python.keras.layers.convolutional.Conv2D object at 0x0000020D2922E520> True\n",
      "<tensorflow.python.keras.layers.pooling.MaxPooling2D object at 0x0000020DB3E14AC0> True\n",
      "<tensorflow.python.keras.layers.convolutional.Conv2D object at 0x0000020DB3E14700> True\n",
      "<tensorflow.python.keras.layers.convolutional.Conv2D object at 0x0000020DB3E26BB0> True\n",
      "<tensorflow.python.keras.layers.pooling.MaxPooling2D object at 0x0000020DB3E1C8E0> True\n",
      "<tensorflow.python.keras.layers.convolutional.Conv2D object at 0x0000020DB3E2B910> True\n",
      "<tensorflow.python.keras.layers.convolutional.Conv2D object at 0x0000020DB3E38E20> True\n",
      "<tensorflow.python.keras.layers.convolutional.Conv2D object at 0x0000020DB3E33F10> True\n",
      "<tensorflow.python.keras.layers.convolutional.Conv2D object at 0x0000020DB3E42C40> True\n",
      "<tensorflow.python.keras.layers.pooling.MaxPooling2D object at 0x0000020DB3E4BD90> True\n",
      "<tensorflow.python.keras.layers.convolutional.Conv2D object at 0x0000020DB3E4BB50> True\n",
      "<tensorflow.python.keras.layers.convolutional.Conv2D object at 0x0000020DB3E5CC70> True\n",
      "<tensorflow.python.keras.layers.convolutional.Conv2D object at 0x0000020DB3E61B80> True\n",
      "<tensorflow.python.keras.layers.convolutional.Conv2D object at 0x0000020DB3E67D30> True\n",
      "<tensorflow.python.keras.layers.pooling.MaxPooling2D object at 0x0000020DB3E71370> True\n",
      "<tensorflow.python.keras.layers.convolutional.Conv2D object at 0x0000020DB3E71790> True\n",
      "<tensorflow.python.keras.layers.convolutional.Conv2D object at 0x0000020DB3E671F0> True\n",
      "<tensorflow.python.keras.layers.convolutional.Conv2D object at 0x0000020DB3E4B610> True\n",
      "<tensorflow.python.keras.layers.convolutional.Conv2D object at 0x0000020DB3E61820> True\n",
      "<tensorflow.python.keras.layers.pooling.MaxPooling2D object at 0x0000020DB3E26F10> True\n"
     ]
    }
   ],
   "source": [
    "for layer in vgg_layers.layers:\n",
    "    layer.trainable = True\n",
    "\n",
    "# Check the trainable status of the individual layers\n",
    "for layer in vgg_layers.layers:\n",
    "    print(layer, layer.trainable)"
   ]
  },
  {
   "cell_type": "code",
   "execution_count": 22,
   "id": "8d6a53bd",
   "metadata": {},
   "outputs": [
    {
     "name": "stdout",
     "output_type": "stream",
     "text": [
      "Model: \"sequential_3\"\n",
      "_________________________________________________________________\n",
      "Layer (type)                 Output Shape              Param #   \n",
      "=================================================================\n",
      "vgg19 (Functional)           (None, 1, 1, 512)         20024384  \n",
      "_________________________________________________________________\n",
      "flatten_3 (Flatten)          (None, 512)               0         \n",
      "_________________________________________________________________\n",
      "dense_9 (Dense)              (None, 256)               131328    \n",
      "_________________________________________________________________\n",
      "dropout_6 (Dropout)          (None, 256)               0         \n",
      "_________________________________________________________________\n",
      "dense_10 (Dense)             (None, 256)               65792     \n",
      "_________________________________________________________________\n",
      "dropout_7 (Dropout)          (None, 256)               0         \n",
      "_________________________________________________________________\n",
      "dense_11 (Dense)             (None, 2)                 514       \n",
      "=================================================================\n",
      "Total params: 20,222,018\n",
      "Trainable params: 20,222,018\n",
      "Non-trainable params: 0\n",
      "_________________________________________________________________\n"
     ]
    }
   ],
   "source": [
    "model = tf.keras.models.Sequential()\n",
    "\n",
    "# Add the vgg convolutional base model\n",
    "model.add(vgg_layers)\n",
    "\n",
    "# add flatten layer\n",
    "model.add(tf.keras.layers.Flatten())\n",
    "\n",
    "# add dense layers with some dropout\n",
    "model.add(tf.keras.layers.Dense(256, activation='relu'))\n",
    "model.add(tf.keras.layers.Dropout(rate=0.3))\n",
    "model.add(tf.keras.layers.Dense(256, activation='relu'))\n",
    "model.add(tf.keras.layers.Dropout(rate=0.3))\n",
    "\n",
    "# add output layer\n",
    "model.add(tf.keras.layers.Dense(2, activation='softmax'))\n",
    "\n",
    "# compile model\n",
    "model.compile(optimizer=tf.keras.optimizers.Adam(learning_rate=2e-5),\n",
    "loss='sparse_categorical_crossentropy',\n",
    "metrics=['accuracy'])\n",
    "\n",
    "# view model layers\n",
    "model.summary()"
   ]
  },
  {
   "cell_type": "code",
   "execution_count": 23,
   "id": "d42ab458",
   "metadata": {},
   "outputs": [
    {
     "name": "stdout",
     "output_type": "stream",
     "text": [
      "Epoch 1/2\n",
      "260/260 [==============================] - 1007s 4s/step - loss: 0.3301 - accuracy: 0.8457 - val_loss: 0.1625 - val_accuracy: 0.9403\n",
      "Epoch 2/2\n",
      "260/260 [==============================] - 1208s 5s/step - loss: 0.1587 - accuracy: 0.9385 - val_loss: 0.1739 - val_accuracy: 0.9349\n"
     ]
    }
   ],
   "source": [
    "EPOCHS = 2\n",
    "es_callback = tf.keras.callbacks.EarlyStopping(monitor='val_loss', patience=2,\n",
    "restore_best_weights=True,\n",
    "verbose=1)\n",
    "\n",
    "history = model.fit(train_images, train_label.label,\n",
    "batch_size=32,\n",
    "callbacks=[es_callback],\n",
    "validation_split=0.1, epochs=EPOCHS,\n",
    "verbose=1)"
   ]
  },
  {
   "cell_type": "code",
   "execution_count": 24,
   "id": "26b51edb",
   "metadata": {},
   "outputs": [
    {
     "data": {
      "image/png": "[encoded data removed]",
      "text/plain": [
       "<Figure size 720x288 with 2 Axes>"
      ]
     },
     "metadata": {},
     "output_type": "display_data"
    }
   ],
   "source": [
    "fig, ax = plt.subplots(1, 2, figsize=(10, 4))\n",
    "\n",
    "history_df = pd.DataFrame(history.history)\n",
    "history_df[['loss', 'val_loss']].plot(kind='line', ax=ax[0])\n",
    "history_df[['accuracy', 'val_accuracy']].plot(kind='line', ax=ax[1]);"
   ]
  },
  {
   "cell_type": "code",
   "execution_count": 25,
   "id": "e820b242",
   "metadata": {},
   "outputs": [
    {
     "data": {
      "text/html": [
       "<div>\n",
       "<style scoped>\n",
       "    .dataframe tbody tr th:only-of-type {\n",
       "        vertical-align: middle;\n",
       "    }\n",
       "\n",
       "    .dataframe tbody tr th {\n",
       "        vertical-align: top;\n",
       "    }\n",
       "\n",
       "    .dataframe thead th {\n",
       "        text-align: right;\n",
       "    }\n",
       "</style>\n",
       "<table border=\"1\" class=\"dataframe\">\n",
       "  <thead>\n",
       "    <tr style=\"text-align: right;\">\n",
       "      <th></th>\n",
       "      <th>filename</th>\n",
       "      <th>label_pred</th>\n",
       "      <th>label</th>\n",
       "    </tr>\n",
       "  </thead>\n",
       "  <tbody>\n",
       "    <tr>\n",
       "      <th>0</th>\n",
       "      <td>Image_1.jpg</td>\n",
       "      <td>male</td>\n",
       "      <td>male</td>\n",
       "    </tr>\n",
       "    <tr>\n",
       "      <th>1</th>\n",
       "      <td>Image_2.jpg</td>\n",
       "      <td>male</td>\n",
       "      <td>female</td>\n",
       "    </tr>\n",
       "    <tr>\n",
       "      <th>2</th>\n",
       "      <td>Image_3.jpg</td>\n",
       "      <td>male</td>\n",
       "      <td>male</td>\n",
       "    </tr>\n",
       "    <tr>\n",
       "      <th>3</th>\n",
       "      <td>Image_4.jpg</td>\n",
       "      <td>male</td>\n",
       "      <td>male</td>\n",
       "    </tr>\n",
       "    <tr>\n",
       "      <th>4</th>\n",
       "      <td>Image_5.jpg</td>\n",
       "      <td>male</td>\n",
       "      <td>male</td>\n",
       "    </tr>\n",
       "  </tbody>\n",
       "</table>\n",
       "</div>"
      ],
      "text/plain": [
       "      filename label_pred   label\n",
       "0  Image_1.jpg       male    male\n",
       "1  Image_2.jpg       male  female\n",
       "2  Image_3.jpg       male    male\n",
       "3  Image_4.jpg       male    male\n",
       "4  Image_5.jpg       male    male"
      ]
     },
     "execution_count": 25,
     "metadata": {},
     "output_type": "execute_result"
    }
   ],
   "source": [
    "prob2 = model.predict(test_images)\n",
    "\n",
    "pr = np.argmax(prob2, axis=1)\n",
    "\n",
    "pred2 = labelEncoder.inverse_transform(pr)\n",
    "\n",
    "test_label_pred['label'] = pred2\n",
    "\n",
    "test_label_pred.head()"
   ]
  },
  {
   "cell_type": "code",
   "execution_count": 26,
   "id": "4a4e352f",
   "metadata": {},
   "outputs": [
    {
     "data": {
      "text/plain": [
       "male      1186\n",
       "female    1119\n",
       "Name: label, dtype: int64"
      ]
     },
     "execution_count": 26,
     "metadata": {},
     "output_type": "execute_result"
    }
   ],
   "source": [
    "test_label_pred.label.value_counts()"
   ]
  },
  {
   "cell_type": "code",
   "execution_count": 27,
   "id": "e516f5d6",
   "metadata": {},
   "outputs": [],
   "source": [
    "test_label_pred.label.to_csv(\"output3.csv\", columns=['label'], index=False)"
   ]
  },
  {
   "cell_type": "code",
   "execution_count": null,
   "id": "1c7fab44",
   "metadata": {},
   "outputs": [],
   "source": []
  }
 ],
 "metadata": {
  "kernelspec": {
   "display_name": "Python 3",
   "language": "python",
   "name": "python3"
  },
  "language_info": {
   "codemirror_mode": {
    "name": "ipython",
    "version": 3
   },
   "file_extension": ".py",
   "mimetype": "text/x-python",
   "name": "python",
   "nbconvert_exporter": "python",
   "pygments_lexer": "ipython3",
   "version": "3.9.1"
  }
 },
 "nbformat": 4,
 "nbformat_minor": 5
}
